{
 "cells": [
  {
   "cell_type": "markdown",
   "metadata": {},
   "source": [
    "# Numerics Review\n",
    "This notebook provides exercises to review our required math background and how to use `numpy` and `scipy`.\n",
    "Useful documentation:\n",
    "+ [numpy](https://numpy.org/doc/stable/reference/)\n",
    "+ [scipy Linear Algebra](https://docs.scipy.org/doc/scipy/reference/tutorial/linalg.html)\n",
    "+ [scipy Statistics](https://docs.scipy.org/doc/scipy/reference/stats.html)"
   ]
  },
  {
   "cell_type": "code",
   "execution_count": null,
   "metadata": {},
   "outputs": [],
   "source": [
    "import numpy as np\n",
    "import scipy.stats as stats\n",
    "import scipy.linalg as linalg"
   ]
  },
  {
   "cell_type": "markdown",
   "metadata": {},
   "source": [
    "## Linear Algebra - Vectors and Matrices\n",
    "\n",
    "`numpy` stores vectors and matrices in efficient array data structures. \n",
    "You build them using the `array()` constructor. \n",
    "Topics for review:\n",
    "+ Matrices, vectors in code\n",
    "+ Products\n",
    "+ Inverse\n",
    "+ Eigenvalues"
   ]
  },
  {
   "cell_type": "code",
   "execution_count": null,
   "metadata": {},
   "outputs": [],
   "source": []
  },
  {
   "cell_type": "markdown",
   "metadata": {},
   "source": [
    "## Probability and Stats\n",
    "\n",
    "`numpy` and `scipy` provide useful APIs for modeling distributions and performing statistics on data arrays.\n",
    "Use the code block below for in-class exercises.\n",
    "Topics for review:\n",
    "+ Data arrays\n",
    "+ Mean, mode, median\n",
    "+ Probability distributions"
   ]
  },
  {
   "cell_type": "code",
   "execution_count": null,
   "metadata": {},
   "outputs": [],
   "source": []
  }
 ],
 "metadata": {
  "kernelspec": {
   "display_name": "Python 3",
   "language": "python",
   "name": "python3"
  },
  "language_info": {
   "codemirror_mode": {
    "name": "ipython",
    "version": 3
   },
   "file_extension": ".py",
   "mimetype": "text/x-python",
   "name": "python",
   "nbconvert_exporter": "python",
   "pygments_lexer": "ipython3",
   "version": "3.6.9"
  }
 },
 "nbformat": 4,
 "nbformat_minor": 4
}
