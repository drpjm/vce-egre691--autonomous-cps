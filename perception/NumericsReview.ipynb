{
 "cells": [
  {
   "cell_type": "markdown",
   "metadata": {},
   "source": [
    "# Numerics Review\n",
    "This notebook provides exercises to review our required math background and how to use `numpy` and `scipy`.\n",
    "Useful documentation:\n",
    "+ [numpy](https://numpy.org/doc/stable/reference/)\n",
    "+ [scipy Linear Algebra](https://docs.scipy.org/doc/scipy/reference/tutorial/linalg.html)\n",
    "+ [scipy Statistics](https://docs.scipy.org/doc/scipy/reference/stats.html)"
   ]
  },
  {
   "cell_type": "code",
   "execution_count": null,
   "metadata": {},
   "outputs": [],
   "source": [
    "import numpy as np\n",
    "import scipy.stats as stats\n",
    "import scipy.linalg as linalg\n",
    "# For pretty pictures!\n",
    "import matplotlib.pyplot as plt"
   ]
  },
  {
   "cell_type": "markdown",
   "metadata": {},
   "source": [
    "## Linear Algebra - Vectors and Matrices\n",
    "\n",
    "`numpy` stores vectors and matrices in efficient array data structures. \n",
    "You build them using the `array()` constructor. \n",
    "Topics for review:\n",
    "+ Matrices, vectors in code\n",
    "+ Products\n",
    "+ Inverse\n",
    "+ Eigenvalues"
   ]
  },
  {
   "cell_type": "code",
   "execution_count": null,
   "metadata": {},
   "outputs": [],
   "source": [
    "x1 = np.ones((2,1), dtype=np.float32)\n",
    "x2 = np.array([1., 2.], dtype=np.float32).reshape(1,2)\n",
    "A1 = np.array([[1., 2.],[3., 2.]], dtype=np.float32)"
   ]
  },
  {
   "cell_type": "code",
   "execution_count": null,
   "metadata": {},
   "outputs": [],
   "source": [
    "x3 = x1.dot(x2)\n",
    "print(x3)"
   ]
  },
  {
   "cell_type": "code",
   "execution_count": null,
   "metadata": {},
   "outputs": [],
   "source": [
    "x4 = x2.dot(x1)\n",
    "print(x4)"
   ]
  },
  {
   "cell_type": "code",
   "execution_count": null,
   "metadata": {},
   "outputs": [],
   "source": [
    "y = A1.dot(x1)\n",
    "print(y)"
   ]
  },
  {
   "cell_type": "code",
   "execution_count": null,
   "metadata": {},
   "outputs": [],
   "source": [
    "z = A1.dot(A1)\n",
    "print(z)"
   ]
  },
  {
   "cell_type": "code",
   "execution_count": null,
   "metadata": {},
   "outputs": [],
   "source": [
    "A2 = np.array([[1., 2.],[2., 6.]])\n",
    "A2inv = linalg.inv(A2)\n",
    "print(A2inv.dot(A2))"
   ]
  },
  {
   "cell_type": "code",
   "execution_count": null,
   "metadata": {},
   "outputs": [],
   "source": [
    "l,v = linalg.eig(A2)\n",
    "print(\"Eigenvalues: {0}\".format(l))\n",
    "print(\"Eigenvectors: {0}\".format(v))"
   ]
  },
  {
   "cell_type": "markdown",
   "metadata": {},
   "source": [
    "## Probability and Stats\n",
    "\n",
    "`numpy` and `scipy` provide useful APIs for modeling distributions and performing statistics on data arrays.\n",
    "Use the code block below for in-class exercises.\n",
    "Topics for review:\n",
    "+ Data arrays\n",
    "+ Mean, mode, median\n",
    "+ Probability distributions"
   ]
  },
  {
   "cell_type": "code",
   "execution_count": null,
   "metadata": {},
   "outputs": [],
   "source": [
    "d = np.array([.5, .55, .42, .46, .52, .36])"
   ]
  },
  {
   "cell_type": "markdown",
   "metadata": {},
   "source": [
    "Various statistical functions over numpy arrays. Very useful!"
   ]
  },
  {
   "cell_type": "code",
   "execution_count": null,
   "metadata": {},
   "outputs": [],
   "source": [
    "print(np.mean(d))\n",
    "print(np.median(d))\n",
    "print(np.std(d))\n",
    "print(np.var(d))"
   ]
  },
  {
   "cell_type": "markdown",
   "metadata": {},
   "source": [
    "Let's say our laser sensor has **zero mean** Gaussian noise with $\\sigma=0.05$.\n",
    "We can build a single variable Gaussian distribution that models the sensor."
   ]
  },
  {
   "cell_type": "code",
   "execution_count": null,
   "metadata": {},
   "outputs": [],
   "source": [
    "# A silly model of the laser measuring a wall 0.5 m away.\n",
    "laser_model = stats.norm(loc=0.5, scale=0.05)\n",
    "# Sample 5 measurements from this distribution\n",
    "print(laser_model.rvs(5))"
   ]
  },
  {
   "cell_type": "code",
   "execution_count": null,
   "metadata": {},
   "outputs": [],
   "source": [
    "fig, ax = plt.subplots(1, 1)\n",
    "#fig.set_size_inches((5,4))\n",
    "# PDF\n",
    "x = np.linspace(laser_model.ppf(0.01),laser_model.ppf(0.99), 100)\n",
    "ax.plot(x, laser_model.pdf(x),'k', lw=3, label='Laser Model PDF')\n",
    "lots_of_samples = laser_model.rvs(1000)\n",
    "ax.hist(lots_of_samples, density=True, histtype='stepfilled', alpha=0.2)\n",
    "plt.show()"
   ]
  },
  {
   "cell_type": "code",
   "execution_count": null,
   "metadata": {},
   "outputs": [],
   "source": [
    "uni_dist = stats.uniform(loc=-1, scale=2)\n",
    "fig, ax = plt.subplots(1, 1)\n",
    "#fig.set_size_inches((5,4))\n",
    "x = np.linspace(uni_dist.ppf(0.01), uni_dist.ppf(0.99),100)\n",
    "ax.plot(x, uni_dist.pdf(x),'k',lw=3)\n",
    "uni_samples = uni_dist.rvs(1000)\n",
    "#fig.set_size_inches((5,4))\n",
    "ax.hist(uni_samples, density=True, histtype='stepfilled', alpha=0.2)\n",
    "plt.show()"
   ]
  },
  {
   "cell_type": "markdown",
   "metadata": {},
   "source": [
    "## PDFs for Sensor Modeling\n",
    "Basic sensor model: a **range-bearing** sensor.\n",
    "This sensor returns the distance and angle from a detector's $x$-axis for an object within its cone of detection."
   ]
  },
  {
   "cell_type": "code",
   "execution_count": null,
   "metadata": {},
   "outputs": [],
   "source": [
    "from math import atan2, atan\n",
    "\n",
    "def r_2d(x_obj, x_s):\n",
    "    return linalg.norm(x_obj-x_s)\n",
    "\n",
    "def bearing_2d(x_obj, x_s):\n",
    "    return atan2((x_obj[1]-x_s[1]), (x_obj[0]-x_s[0]))"
   ]
  },
  {
   "cell_type": "code",
   "execution_count": null,
   "metadata": {},
   "outputs": [],
   "source": [
    "Sigma = np.array([[0.05, 0.0],[0.0,0.01]])"
   ]
  },
  {
   "cell_type": "code",
   "execution_count": null,
   "metadata": {},
   "outputs": [],
   "source": [
    "# Example noise with the covariance matrix Sigma\n",
    "noise_samples = stats.multivariate_normal(cov=Sigma).rvs(1000)\n",
    "fig, ax = plt.subplots(1, 1)\n",
    "fig.set_size_inches((6,4))\n",
    "# This scatter plot is in the dimensions of r and theta, not the 2d plane\n",
    "# Note the scales are different since the covariances differ by an order of magnitude\n",
    "ax.scatter(noise_samples[:,0], noise_samples[:,1])\n",
    "plt.show()"
   ]
  },
  {
   "cell_type": "code",
   "execution_count": null,
   "metadata": {},
   "outputs": [],
   "source": [
    "# A function that models a range-bearing measurement based on \n",
    "# system position, x_t, and the detected object, x_obj\n",
    "def measure(x_obj, x_t):\n",
    "    h = np.array([r_2d(x_obj, x_t), bearing_2d(x_obj, x_t)])\n",
    "    return stats.multivariate_normal(mean=h, cov=Sigma).rvs()"
   ]
  },
  {
   "cell_type": "code",
   "execution_count": null,
   "metadata": {},
   "outputs": [],
   "source": [
    "xo = np.array([1,1])\n",
    "xs = np.array([0,0])"
   ]
  },
  {
   "cell_type": "code",
   "execution_count": null,
   "metadata": {},
   "outputs": [],
   "source": [
    "print(\"Exact measurement: {0}\".format([r_2d(xo, xs), bearing_2d(xo, xs)]))\n",
    "print(\"Noisy measurement: {0}\".format(measure(xo, xs)))"
   ]
  },
  {
   "cell_type": "code",
   "execution_count": null,
   "metadata": {},
   "outputs": [],
   "source": [
    "ps = np.array([measure(xo, xs) for i in range(1000)])\n",
    "xlocs = ps[:,0]*np.cos(ps[:,1])\n",
    "ylocs = ps[:,0]*np.sin(ps[:,1])"
   ]
  },
  {
   "cell_type": "code",
   "execution_count": null,
   "metadata": {},
   "outputs": [],
   "source": [
    "fig, ax = plt.subplots(1, 1)\n",
    "fig.set_size_inches((7,5))\n",
    "ax.scatter(xlocs,ylocs, marker='o')\n",
    "ax.set(xlim=(0,2), ylim=(0,2))\n",
    "plt.show()"
   ]
  },
  {
   "cell_type": "code",
   "execution_count": null,
   "metadata": {},
   "outputs": [],
   "source": []
  }
 ],
 "metadata": {
  "kernelspec": {
   "display_name": "Python 3",
   "language": "python",
   "name": "python3"
  },
  "language_info": {
   "codemirror_mode": {
    "name": "ipython",
    "version": 3
   },
   "file_extension": ".py",
   "mimetype": "text/x-python",
   "name": "python",
   "nbconvert_exporter": "python",
   "pygments_lexer": "ipython3",
   "version": "3.6.9"
  }
 },
 "nbformat": 4,
 "nbformat_minor": 4
}
